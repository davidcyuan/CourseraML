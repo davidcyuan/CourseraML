{
 "cells": [
  {
   "cell_type": "code",
   "execution_count": 31,
   "id": "8aec0e50-42d5-4e5a-8180-ac1bb4898fa0",
   "metadata": {},
   "outputs": [],
   "source": [
    "from sklearn import datasets\n",
    "import numpy as np\n",
    "import matplotlib.pyplot as plt\n",
    "import math\n",
    "import sys"
   ]
  },
  {
   "cell_type": "code",
   "execution_count": 24,
   "id": "c958036d-8301-48ac-8a24-a437c869c114",
   "metadata": {},
   "outputs": [
    {
     "name": "stdout",
     "output_type": "stream",
     "text": [
      "[0 0 0 0 0 0 0 0 0 0 0 0 0 0 0 0 0 0 0 0 0 0 0 0 0 0 0 0 0 0 0 0 0 0 0 0 0\n",
      " 0 0 0 0 0 0 0 0 0 0 0 0 0 1 1 1 1 1 1 1 1 1 1 1 1 1 1 1 1 1 1 1 1 1 1 1 1\n",
      " 1 1 1 1 1 1 1 1 1 1 1 1 1 1 1 1 1 1 1 1 1 1 1 1 1 1 2 2 2 2 2 2 2 2 2 2 2\n",
      " 2 2 2 2 2 2 2 2 2 2 2 2 2 2 2 2 2 2 2 2 2 2 2 2 2 2 2 2 2 2 2 2 2 2 2 2 2\n",
      " 2 2]\n"
     ]
    }
   ],
   "source": [
    "iris_bunch = datasets.load_iris()\n",
    "# print(iris_bunch[\"DESCR\"])\n",
    "\n",
    "X_train = iris_bunch[\"data\"]\n",
    "y_train = iris_bunch[\"target\"]\n",
    "feat_names = iris_bunch[\"feature_names\"]\n",
    "target_names = iris_bunch[\"target_names\"]\n",
    "print(y_train)"
   ]
  },
  {
   "cell_type": "code",
   "execution_count": 25,
   "id": "a54da6f1-d526-4095-ab00-a1c9f11b0224",
   "metadata": {},
   "outputs": [
    {
     "name": "stdout",
     "output_type": "stream",
     "text": [
      "(150, 4)\n",
      "[0 0 0 0 0 0 0 0 0 0 0 0 0 0 0 0 0 0 0 0 0 0 0 0 0 0 0 0 0 0 0 0 0 0 0 0 0\n",
      " 0 0 0 0 0 0 0 0 0 0 0 0 0 1 1 1 1 1 1 1 1 1 1 1 1 1 1 1 1 1 1 1 1 1 1 1 1\n",
      " 1 1 1 1 1 1 1 1 1 1 1 1 1 1 1 1 1 1 1 1 1 1 1 1 1 1 1 1 1 1 1 1 1 1 1 1 1\n",
      " 1 1 1 1 1 1 1 1 1 1 1 1 1 1 1 1 1 1 1 1 1 1 1 1 1 1 1 1 1 1 1 1 1 1 1 1 1\n",
      " 1 1]\n"
     ]
    }
   ],
   "source": [
    "# one vs all, turn all 2's into 1's in y_train\n",
    "y_train_2 = np.copy(y_train)\n",
    "y_train_2[y_train_2 == 2] = 1\n",
    "print(X_train.shape)\n",
    "print(y_train_2)"
   ]
  },
  {
   "cell_type": "code",
   "execution_count": 63,
   "id": "d3a1b66c-c91e-4b6b-9950-ac2e056a8a75",
   "metadata": {},
   "outputs": [
    {
     "name": "stdout",
     "output_type": "stream",
     "text": [
      "42.271766686999996\n",
      "4.381320135988634e-19\n",
      "1.0\n"
     ]
    }
   ],
   "source": [
    "a = np.dot([7.,  3.2, 4.7, 1.4], [1.253,      0.386,      1.39166667, 0.51766667])\n",
    "a += 25\n",
    "print(a)\n",
    "print(np.exp(-a))\n",
    "print(1/(1 + np.exp(-a)))"
   ]
  },
  {
   "cell_type": "code",
   "execution_count": 70,
   "id": "1eca2591-0883-4c3c-885b-093272c91068",
   "metadata": {},
   "outputs": [],
   "source": [
    "def f_func(x, w, b):\n",
    "    z = np.dot(x, w) + b\n",
    "    return 1/(1 + np.exp(-z))\n",
    "\n",
    "def J_func(X_train, y_train, w, b):\n",
    "    cost = 0\n",
    "    m, n = X_train.shape\n",
    "\n",
    "    for i in range(m):\n",
    "        x_cur = X_train[i]\n",
    "        y_cur = y_train[i]\n",
    "        f_x = f_func(x_cur, w, b)\n",
    "        if(f_x <= 0):\n",
    "            f_x += 1.0e-9\n",
    "        if(f_x >= 1):\n",
    "            f_x -= 1.0e-9\n",
    "        cost += -1 * y_cur * np.log(f_x) - (1 - y_cur) * np.log(1 - f_x)\n",
    "\n",
    "    cost = cost / m\n",
    "    return cost\n",
    "\n",
    "def grad_func(X_train, y_train, w, b):\n",
    "    m, n = X_train.shape\n",
    "    predicts = f_func(X_train, w, b)\n",
    "    errors = predicts - y_train\n",
    "\n",
    "    X_trans = np.transpose(X_train)\n",
    "    grad_w = np.matmul(X_trans, errors) / m\n",
    "    grad_b = np.sum(errors)\n",
    "\n",
    "    return grad_w, grad_b\n",
    "\n",
    "def grad_desc(X_train, y_train, w_init, b_init, alpha, iters):\n",
    "    m, n = X_train.shape\n",
    "    J_hist = np.zeros(iters)\n",
    "    w_hist = np.zeros((iters, n))\n",
    "    b_hist = np.zeros(iters)\n",
    "\n",
    "    w_cur = w_init\n",
    "    b_cur = b_init\n",
    "    for i in range(iters):\n",
    "        J_hist[i] = J_func(X_train, y_train, w_cur, b_cur)\n",
    "        w_hist[i] = w_cur\n",
    "        b_hist[i] = b_cur\n",
    "\n",
    "        if(i % 100 == 0) or (i >= (iters - 10)):\n",
    "            print(f\"iter: {i}    cost: {J_hist[i]}\")\n",
    "\n",
    "        w_grad, b_grad = grad_func(X_train, y_train, w_cur, b_cur)\n",
    "        w_cur -= w_grad * alpha\n",
    "        b_cur -= b_grad * alpha\n",
    "\n",
    "    return J_hist, w_hist, b_hist\n",
    "\n"
   ]
  },
  {
   "cell_type": "code",
   "execution_count": 92,
   "id": "98cef308-4178-48c1-8f29-c15d0e39e0de",
   "metadata": {},
   "outputs": [
    {
     "name": "stdout",
     "output_type": "stream",
     "text": [
      "iter: 0    cost: 0.6931471805599463\n",
      "iter: 100    cost: 3.998371445714686e-05\n",
      "iter: 200    cost: 2.381719123652622e-05\n",
      "iter: 300    cost: 1.7724824131564253e-05\n",
      "iter: 400    cost: 1.4697908755491897e-05\n",
      "iter: 500    cost: 1.2988458481767407e-05\n",
      "iter: 600    cost: 1.19520704829852e-05\n",
      "iter: 700    cost: 1.1295938808354623e-05\n",
      "iter: 800    cost: 1.086855028439575e-05\n",
      "iter: 900    cost: 1.05844829716688e-05\n",
      "iter: 990    cost: 1.0408696860854377e-05\n",
      "iter: 991    cost: 1.0407064629354865e-05\n",
      "iter: 992    cost: 1.0405438576553229e-05\n",
      "iter: 993    cost: 1.0403818676802836e-05\n",
      "iter: 994    cost: 1.0402204904613999e-05\n",
      "iter: 995    cost: 1.0400597234571072e-05\n",
      "iter: 996    cost: 1.0398995641386497e-05\n",
      "iter: 997    cost: 1.0397400099914095e-05\n",
      "iter: 998    cost: 1.0395810585050665e-05\n",
      "iter: 999    cost: 1.039422707187436e-05\n",
      "accuracy = 100.00%\n"
     ]
    }
   ],
   "source": [
    "m, n = X_train.shape\n",
    "w_init = np.zeros(n)\n",
    "J_hist, w_hist, b_hist = grad_desc(X_train, y_train_2, w_init, 0, 1.0e0, 1000)\n",
    "w_test = w_hist[999]\n",
    "b_test = b_hist[999]\n",
    "\n",
    "probs = f_func(X_train, w_test, b_test)\n",
    "predicts = np.rint(probs)\n",
    "check_ys = np.rint(y_train_2)\n",
    "corrects = np.sum(predicts == check_ys)\n",
    "print(f\"accuracy = {corrects/m:.2%}\")"
   ]
  },
  {
   "cell_type": "code",
   "execution_count": null,
   "id": "2a95c101-c3d1-4898-8b99-02460f2cad1e",
   "metadata": {},
   "outputs": [],
   "source": []
  }
 ],
 "metadata": {
  "kernelspec": {
   "display_name": "Python 3 (ipykernel)",
   "language": "python",
   "name": "python3"
  },
  "language_info": {
   "codemirror_mode": {
    "name": "ipython",
    "version": 3
   },
   "file_extension": ".py",
   "mimetype": "text/x-python",
   "name": "python",
   "nbconvert_exporter": "python",
   "pygments_lexer": "ipython3",
   "version": "3.12.0"
  }
 },
 "nbformat": 4,
 "nbformat_minor": 5
}
