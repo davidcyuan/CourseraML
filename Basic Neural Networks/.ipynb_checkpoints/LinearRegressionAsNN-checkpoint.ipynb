{
 "cells": [
  {
   "cell_type": "code",
   "execution_count": 13,
   "id": "3f9871ea-ac24-46d9-b4d9-e729042a430a",
   "metadata": {},
   "outputs": [],
   "source": [
    "from sklearn import datasets\n",
    "from sklearn.preprocessing import StandardScaler\n",
    "\n",
    "import numpy as np\n",
    "\n",
    "from tensorflow.keras.layers import Dense, Input\n",
    "from tensorflow.keras import Sequential\n",
    "import tensorflow as tf"
   ]
  },
  {
   "cell_type": "code",
   "execution_count": 2,
   "id": "d6788e57-cdfe-412a-8e46-f10a41189b8e",
   "metadata": {},
   "outputs": [],
   "source": [
    "data_bunch = datasets.fetch_california_housing()"
   ]
  },
  {
   "cell_type": "code",
   "execution_count": 3,
   "id": "183827e3-fe14-4332-a232-e12a54a19611",
   "metadata": {},
   "outputs": [
    {
     "name": "stdout",
     "output_type": "stream",
     "text": [
      ".. _california_housing_dataset:\n",
      "\n",
      "California Housing dataset\n",
      "--------------------------\n",
      "\n",
      "**Data Set Characteristics:**\n",
      "\n",
      "    :Number of Instances: 20640\n",
      "\n",
      "    :Number of Attributes: 8 numeric, predictive attributes and the target\n",
      "\n",
      "    :Attribute Information:\n",
      "        - MedInc        median income in block group\n",
      "        - HouseAge      median house age in block group\n",
      "        - AveRooms      average number of rooms per household\n",
      "        - AveBedrms     average number of bedrooms per household\n",
      "        - Population    block group population\n",
      "        - AveOccup      average number of household members\n",
      "        - Latitude      block group latitude\n",
      "        - Longitude     block group longitude\n",
      "\n",
      "    :Missing Attribute Values: None\n",
      "\n",
      "This dataset was obtained from the StatLib repository.\n",
      "https://www.dcc.fc.up.pt/~ltorgo/Regression/cal_housing.html\n",
      "\n",
      "The target variable is the median house value for California districts,\n",
      "expressed in hundreds of thousands of dollars ($100,000).\n",
      "\n",
      "This dataset was derived from the 1990 U.S. census, using one row per census\n",
      "block group. A block group is the smallest geographical unit for which the U.S.\n",
      "Census Bureau publishes sample data (a block group typically has a population\n",
      "of 600 to 3,000 people).\n",
      "\n",
      "A household is a group of people residing within a home. Since the average\n",
      "number of rooms and bedrooms in this dataset are provided per household, these\n",
      "columns may take surprisingly large values for block groups with few households\n",
      "and many empty houses, such as vacation resorts.\n",
      "\n",
      "It can be downloaded/loaded using the\n",
      ":func:`sklearn.datasets.fetch_california_housing` function.\n",
      "\n",
      ".. topic:: References\n",
      "\n",
      "    - Pace, R. Kelley and Ronald Barry, Sparse Spatial Autoregressions,\n",
      "      Statistics and Probability Letters, 33 (1997) 291-297\n",
      "\n"
     ]
    }
   ],
   "source": [
    "print(data_bunch['DESCR'])"
   ]
  },
  {
   "cell_type": "code",
   "execution_count": 4,
   "id": "c031649e-52aa-4e37-8ccc-41ea627c0952",
   "metadata": {},
   "outputs": [],
   "source": [
    "X_train = data_bunch['data']"
   ]
  },
  {
   "cell_type": "code",
   "execution_count": 5,
   "id": "ecdb39f0-2988-4400-995a-3b6e6358afb1",
   "metadata": {},
   "outputs": [],
   "source": [
    "y_train = data_bunch['target']"
   ]
  },
  {
   "cell_type": "code",
   "execution_count": 14,
   "id": "62813469-f9d6-4371-a40a-9932966b15c7",
   "metadata": {},
   "outputs": [],
   "source": [
    "norml = tf.keras.layers.Normalization(axis = -1)"
   ]
  },
  {
   "cell_type": "code",
   "execution_count": 15,
   "id": "123cc2c3-93f0-4e0f-b411-f20a4f123096",
   "metadata": {},
   "outputs": [],
   "source": [
    "norml.adapt(X_train)"
   ]
  },
  {
   "cell_type": "code",
   "execution_count": 16,
   "id": "0ef38892-2c57-477f-9a03-985deee576ee",
   "metadata": {},
   "outputs": [],
   "source": [
    "X_scaled = norml(X_train)"
   ]
  },
  {
   "cell_type": "code",
   "execution_count": 21,
   "id": "980eed56-4093-4f61-87a0-22ad0ec42f57",
   "metadata": {},
   "outputs": [
    {
     "name": "stdout",
     "output_type": "stream",
     "text": [
      "(20640, 8)\n"
     ]
    }
   ],
   "source": [
    "print(X_scaled.shape)"
   ]
  },
  {
   "cell_type": "code",
   "execution_count": 22,
   "id": "a665b183-94b8-414b-8da0-6fffb1666bce",
   "metadata": {},
   "outputs": [],
   "source": [
    "model = Sequential(\n",
    "    [\n",
    "        tf.keras.Input(shape = (8,)),\n",
    "        Dense(units = 1, activation = 'linear')\n",
    "    ]\n",
    ")"
   ]
  },
  {
   "cell_type": "markdown",
   "id": "cb6b09b5-9cff-4109-a6a4-1c5d314d270c",
   "metadata": {},
   "source": [
    "model.summary()"
   ]
  },
  {
   "cell_type": "code",
   "execution_count": 24,
   "id": "3b246758-3aa7-4ae8-864a-e1ff9bd136c1",
   "metadata": {},
   "outputs": [],
   "source": [
    "model.compile(\n",
    "    loss = tf.keras.losses.MeanSquaredError(),\n",
    "    optimizer = tf.keras.optimizers.Adam(learning_rate = 0.01)\n",
    ")"
   ]
  },
  {
   "cell_type": "code",
   "execution_count": 26,
   "id": "5f892b03-efda-4ca5-aa66-60517b8d2627",
   "metadata": {},
   "outputs": [
    {
     "name": "stdout",
     "output_type": "stream",
     "text": [
      "Epoch 1/10\n",
      "645/645 [==============================] - 0s 734us/step - loss: 0.6116\n",
      "Epoch 2/10\n",
      "645/645 [==============================] - 0s 696us/step - loss: 0.5574\n",
      "Epoch 3/10\n",
      "645/645 [==============================] - 0s 670us/step - loss: 0.5357\n",
      "Epoch 4/10\n",
      "645/645 [==============================] - 0s 698us/step - loss: 0.5344\n",
      "Epoch 5/10\n",
      "645/645 [==============================] - 0s 681us/step - loss: 0.5403\n",
      "Epoch 6/10\n",
      "645/645 [==============================] - 0s 687us/step - loss: 0.5361\n",
      "Epoch 7/10\n",
      "645/645 [==============================] - 0s 680us/step - loss: 0.5351\n",
      "Epoch 8/10\n",
      "645/645 [==============================] - 0s 697us/step - loss: 0.5613\n",
      "Epoch 9/10\n",
      "645/645 [==============================] - 0s 730us/step - loss: 0.5305\n",
      "Epoch 10/10\n",
      "645/645 [==============================] - 0s 708us/step - loss: 0.5399\n"
     ]
    },
    {
     "data": {
      "text/plain": [
       "<keras.callbacks.History at 0x1c6f2d6f940>"
      ]
     },
     "execution_count": 26,
     "metadata": {},
     "output_type": "execute_result"
    }
   ],
   "source": [
    "model.fit(X_scaled, y_train, epochs = 10)"
   ]
  },
  {
   "cell_type": "code",
   "execution_count": 34,
   "id": "21103bda-369f-4945-b509-cde4356306c2",
   "metadata": {},
   "outputs": [],
   "source": [
    "test_rands = np.random.randint(low = 0, high = y_train.shape[0], size = 10)"
   ]
  },
  {
   "cell_type": "code",
   "execution_count": 37,
   "id": "4307a7f4-b4c0-441f-bd6b-4f357c222e24",
   "metadata": {},
   "outputs": [],
   "source": [
    "X_tests = tf.gather(X_scaled, test_rands)"
   ]
  },
  {
   "cell_type": "code",
   "execution_count": 41,
   "id": "297fca80-c691-4248-9396-545a14e4a89f",
   "metadata": {},
   "outputs": [],
   "source": [
    "y_tests = tf.gather(y_train, test_rands)"
   ]
  },
  {
   "cell_type": "code",
   "execution_count": 44,
   "id": "ba127f9b-adeb-428b-a9ab-81772e641c92",
   "metadata": {},
   "outputs": [
    {
     "name": "stdout",
     "output_type": "stream",
     "text": [
      "1/1 [==============================] - 0s 22ms/step\n"
     ]
    }
   ],
   "source": [
    "predictions = model.predict(X_tests)"
   ]
  },
  {
   "cell_type": "code",
   "execution_count": 51,
   "id": "25271c10-8347-4fdc-b063-3b0df5b3e7de",
   "metadata": {},
   "outputs": [
    {
     "name": "stdout",
     "output_type": "stream",
     "text": [
      "index: 14409,    prediction: 2.00,    target: 1.75\n",
      "index: 5093,    prediction: 1.58,    target: 1.073\n",
      "index: 9458,    prediction: 1.58,    target: 1.0\n",
      "index: 15415,    prediction: 1.04,    target: 0.908\n",
      "index: 11206,    prediction: 2.57,    target: 1.793\n",
      "index: 18191,    prediction: 3.73,    target: 3.609\n",
      "index: 6016,    prediction: 1.43,    target: 1.287\n",
      "index: 9209,    prediction: 1.30,    target: 1.136\n",
      "index: 1153,    prediction: 0.71,    target: 1.423\n",
      "index: 12263,    prediction: 0.57,    target: 0.567\n"
     ]
    }
   ],
   "source": [
    "for i in range(predictions.shape[0]):\n",
    "    print(f\"index: {test_rands[i]},    prediction: {predictions[i][0]:.2f},    target: {y_tests[i]}\")"
   ]
  },
  {
   "cell_type": "code",
   "execution_count": null,
   "id": "a3ac8917-7296-4c43-a88a-5e6ec68834ed",
   "metadata": {},
   "outputs": [],
   "source": []
  }
 ],
 "metadata": {
  "kernelspec": {
   "display_name": "Python 3 (ipykernel)",
   "language": "python",
   "name": "python3"
  },
  "language_info": {
   "codemirror_mode": {
    "name": "ipython",
    "version": 3
   },
   "file_extension": ".py",
   "mimetype": "text/x-python",
   "name": "python",
   "nbconvert_exporter": "python",
   "pygments_lexer": "ipython3",
   "version": "3.9.18"
  }
 },
 "nbformat": 4,
 "nbformat_minor": 5
}
